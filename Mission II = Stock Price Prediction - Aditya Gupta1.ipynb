{
 "cells": [
  {
   "cell_type": "code",
   "execution_count": 1,
   "metadata": {},
   "outputs": [],
   "source": [
    "import numpy as np\n",
    "import pandas as pd\n",
    "import matplotlib.pyplot as plt\n",
    "import seaborn as sns\n",
    "sns.set()"
   ]
  },
  {
   "cell_type": "code",
   "execution_count": 2,
   "metadata": {},
   "outputs": [
    {
     "data": {
      "text/html": [
       "<div>\n",
       "<style scoped>\n",
       "    .dataframe tbody tr th:only-of-type {\n",
       "        vertical-align: middle;\n",
       "    }\n",
       "\n",
       "    .dataframe tbody tr th {\n",
       "        vertical-align: top;\n",
       "    }\n",
       "\n",
       "    .dataframe thead th {\n",
       "        text-align: right;\n",
       "    }\n",
       "</style>\n",
       "<table border=\"1\" class=\"dataframe\">\n",
       "  <thead>\n",
       "    <tr style=\"text-align: right;\">\n",
       "      <th></th>\n",
       "      <th>Date</th>\n",
       "      <th>Open</th>\n",
       "      <th>High</th>\n",
       "      <th>Low</th>\n",
       "      <th>Close</th>\n",
       "      <th>Volume</th>\n",
       "      <th>Dividend</th>\n",
       "      <th>Split</th>\n",
       "      <th>Adj_Open</th>\n",
       "      <th>Adj_High</th>\n",
       "      <th>Adj_Low</th>\n",
       "      <th>Adj_Close</th>\n",
       "      <th>Adj_Volume</th>\n",
       "    </tr>\n",
       "  </thead>\n",
       "  <tbody>\n",
       "    <tr>\n",
       "      <th>0</th>\n",
       "      <td>28-12-2017</td>\n",
       "      <td>171.00</td>\n",
       "      <td>171.850</td>\n",
       "      <td>170.480</td>\n",
       "      <td>171.08</td>\n",
       "      <td>16480187</td>\n",
       "      <td>0.0</td>\n",
       "      <td>1</td>\n",
       "      <td>41.136972</td>\n",
       "      <td>41.341454</td>\n",
       "      <td>41.011877</td>\n",
       "      <td>41.156217</td>\n",
       "      <td>65920748</td>\n",
       "    </tr>\n",
       "    <tr>\n",
       "      <th>1</th>\n",
       "      <td>27-12-2017</td>\n",
       "      <td>170.10</td>\n",
       "      <td>170.780</td>\n",
       "      <td>169.710</td>\n",
       "      <td>170.60</td>\n",
       "      <td>21498213</td>\n",
       "      <td>0.0</td>\n",
       "      <td>1</td>\n",
       "      <td>40.920461</td>\n",
       "      <td>41.084047</td>\n",
       "      <td>40.826640</td>\n",
       "      <td>41.040745</td>\n",
       "      <td>85992852</td>\n",
       "    </tr>\n",
       "    <tr>\n",
       "      <th>2</th>\n",
       "      <td>26-12-2017</td>\n",
       "      <td>170.80</td>\n",
       "      <td>171.470</td>\n",
       "      <td>169.679</td>\n",
       "      <td>170.57</td>\n",
       "      <td>33185536</td>\n",
       "      <td>0.0</td>\n",
       "      <td>1</td>\n",
       "      <td>41.088858</td>\n",
       "      <td>41.250038</td>\n",
       "      <td>40.819183</td>\n",
       "      <td>41.033528</td>\n",
       "      <td>132742144</td>\n",
       "    </tr>\n",
       "    <tr>\n",
       "      <th>3</th>\n",
       "      <td>22-12-2017</td>\n",
       "      <td>174.68</td>\n",
       "      <td>175.424</td>\n",
       "      <td>174.500</td>\n",
       "      <td>175.01</td>\n",
       "      <td>16349444</td>\n",
       "      <td>0.0</td>\n",
       "      <td>1</td>\n",
       "      <td>42.022259</td>\n",
       "      <td>42.201241</td>\n",
       "      <td>41.978957</td>\n",
       "      <td>42.101646</td>\n",
       "      <td>65397776</td>\n",
       "    </tr>\n",
       "    <tr>\n",
       "      <th>4</th>\n",
       "      <td>21-12-2017</td>\n",
       "      <td>174.17</td>\n",
       "      <td>176.020</td>\n",
       "      <td>174.100</td>\n",
       "      <td>175.01</td>\n",
       "      <td>20949896</td>\n",
       "      <td>0.0</td>\n",
       "      <td>1</td>\n",
       "      <td>41.899570</td>\n",
       "      <td>42.344619</td>\n",
       "      <td>41.882730</td>\n",
       "      <td>42.101646</td>\n",
       "      <td>83799584</td>\n",
       "    </tr>\n",
       "  </tbody>\n",
       "</table>\n",
       "</div>"
      ],
      "text/plain": [
       "         Date    Open     High      Low   Close    Volume  Dividend  Split  \\\n",
       "0  28-12-2017  171.00  171.850  170.480  171.08  16480187       0.0      1   \n",
       "1  27-12-2017  170.10  170.780  169.710  170.60  21498213       0.0      1   \n",
       "2  26-12-2017  170.80  171.470  169.679  170.57  33185536       0.0      1   \n",
       "3  22-12-2017  174.68  175.424  174.500  175.01  16349444       0.0      1   \n",
       "4  21-12-2017  174.17  176.020  174.100  175.01  20949896       0.0      1   \n",
       "\n",
       "    Adj_Open   Adj_High    Adj_Low  Adj_Close  Adj_Volume  \n",
       "0  41.136972  41.341454  41.011877  41.156217    65920748  \n",
       "1  40.920461  41.084047  40.826640  41.040745    85992852  \n",
       "2  41.088858  41.250038  40.819183  41.033528   132742144  \n",
       "3  42.022259  42.201241  41.978957  42.101646    65397776  \n",
       "4  41.899570  42.344619  41.882730  42.101646    83799584  "
      ]
     },
     "execution_count": 2,
     "metadata": {},
     "output_type": "execute_result"
    }
   ],
   "source": [
    "data = pd.read_csv('EOD-APPLE.csv')\n",
    "data.head()"
   ]
  },
  {
   "cell_type": "code",
   "execution_count": 3,
   "metadata": {},
   "outputs": [
    {
     "data": {
      "text/plain": [
       "(1090, 13)"
      ]
     },
     "execution_count": 3,
     "metadata": {},
     "output_type": "execute_result"
    }
   ],
   "source": [
    "data.shape"
   ]
  },
  {
   "cell_type": "code",
   "execution_count": 4,
   "metadata": {},
   "outputs": [
    {
     "name": "stdout",
     "output_type": "stream",
     "text": [
      "<class 'pandas.core.frame.DataFrame'>\n",
      "RangeIndex: 1090 entries, 0 to 1089\n",
      "Data columns (total 13 columns):\n",
      " #   Column      Non-Null Count  Dtype  \n",
      "---  ------      --------------  -----  \n",
      " 0   Date        1090 non-null   object \n",
      " 1   Open        1090 non-null   float64\n",
      " 2   High        1090 non-null   float64\n",
      " 3   Low         1090 non-null   float64\n",
      " 4   Close       1090 non-null   float64\n",
      " 5   Volume      1090 non-null   int64  \n",
      " 6   Dividend    1090 non-null   float64\n",
      " 7   Split       1090 non-null   int64  \n",
      " 8   Adj_Open    1090 non-null   float64\n",
      " 9   Adj_High    1090 non-null   float64\n",
      " 10  Adj_Low     1090 non-null   float64\n",
      " 11  Adj_Close   1090 non-null   float64\n",
      " 12  Adj_Volume  1090 non-null   int64  \n",
      "dtypes: float64(9), int64(3), object(1)\n",
      "memory usage: 110.8+ KB\n"
     ]
    }
   ],
   "source": [
    "data.info()"
   ]
  },
  {
   "cell_type": "code",
   "execution_count": 5,
   "metadata": {},
   "outputs": [
    {
     "data": {
      "text/html": [
       "<div>\n",
       "<style scoped>\n",
       "    .dataframe tbody tr th:only-of-type {\n",
       "        vertical-align: middle;\n",
       "    }\n",
       "\n",
       "    .dataframe tbody tr th {\n",
       "        vertical-align: top;\n",
       "    }\n",
       "\n",
       "    .dataframe thead th {\n",
       "        text-align: right;\n",
       "    }\n",
       "</style>\n",
       "<table border=\"1\" class=\"dataframe\">\n",
       "  <thead>\n",
       "    <tr style=\"text-align: right;\">\n",
       "      <th></th>\n",
       "      <th>Open</th>\n",
       "      <th>High</th>\n",
       "      <th>Low</th>\n",
       "      <th>Close</th>\n",
       "      <th>Volume</th>\n",
       "      <th>Dividend</th>\n",
       "      <th>Split</th>\n",
       "      <th>Adj_Open</th>\n",
       "      <th>Adj_High</th>\n",
       "      <th>Adj_Low</th>\n",
       "      <th>Adj_Close</th>\n",
       "      <th>Adj_Volume</th>\n",
       "    </tr>\n",
       "  </thead>\n",
       "  <tbody>\n",
       "    <tr>\n",
       "      <th>count</th>\n",
       "      <td>1090.000000</td>\n",
       "      <td>1090.000000</td>\n",
       "      <td>1090.000000</td>\n",
       "      <td>1090.000000</td>\n",
       "      <td>1.090000e+03</td>\n",
       "      <td>1090.000000</td>\n",
       "      <td>1090.000000</td>\n",
       "      <td>1090.000000</td>\n",
       "      <td>1090.000000</td>\n",
       "      <td>1090.000000</td>\n",
       "      <td>1090.000000</td>\n",
       "      <td>1.090000e+03</td>\n",
       "    </tr>\n",
       "    <tr>\n",
       "      <th>mean</th>\n",
       "      <td>194.564537</td>\n",
       "      <td>196.114735</td>\n",
       "      <td>193.016676</td>\n",
       "      <td>194.613130</td>\n",
       "      <td>3.605114e+07</td>\n",
       "      <td>0.015642</td>\n",
       "      <td>1.005505</td>\n",
       "      <td>26.367551</td>\n",
       "      <td>26.578236</td>\n",
       "      <td>26.152043</td>\n",
       "      <td>26.373196</td>\n",
       "      <td>1.931334e+08</td>\n",
       "    </tr>\n",
       "    <tr>\n",
       "      <th>std</th>\n",
       "      <td>160.562848</td>\n",
       "      <td>161.812898</td>\n",
       "      <td>159.407381</td>\n",
       "      <td>160.647536</td>\n",
       "      <td>2.194473e+07</td>\n",
       "      <td>0.175122</td>\n",
       "      <td>0.181735</td>\n",
       "      <td>6.614490</td>\n",
       "      <td>6.640870</td>\n",
       "      <td>6.578682</td>\n",
       "      <td>6.616455</td>\n",
       "      <td>1.112891e+08</td>\n",
       "    </tr>\n",
       "    <tr>\n",
       "      <th>min</th>\n",
       "      <td>90.000000</td>\n",
       "      <td>90.700000</td>\n",
       "      <td>89.470000</td>\n",
       "      <td>90.280000</td>\n",
       "      <td>5.704900e+06</td>\n",
       "      <td>0.000000</td>\n",
       "      <td>1.000000</td>\n",
       "      <td>14.189776</td>\n",
       "      <td>14.561974</td>\n",
       "      <td>14.166335</td>\n",
       "      <td>14.258197</td>\n",
       "      <td>4.590369e+07</td>\n",
       "    </tr>\n",
       "    <tr>\n",
       "      <th>25%</th>\n",
       "      <td>108.042500</td>\n",
       "      <td>108.942500</td>\n",
       "      <td>106.972500</td>\n",
       "      <td>108.007500</td>\n",
       "      <td>2.120714e+07</td>\n",
       "      <td>0.000000</td>\n",
       "      <td>1.000000</td>\n",
       "      <td>22.170235</td>\n",
       "      <td>22.433992</td>\n",
       "      <td>21.948836</td>\n",
       "      <td>22.201030</td>\n",
       "      <td>1.133450e+08</td>\n",
       "    </tr>\n",
       "    <tr>\n",
       "      <th>50%</th>\n",
       "      <td>121.585000</td>\n",
       "      <td>122.504950</td>\n",
       "      <td>120.640000</td>\n",
       "      <td>121.755000</td>\n",
       "      <td>3.248325e+07</td>\n",
       "      <td>0.000000</td>\n",
       "      <td>1.000000</td>\n",
       "      <td>25.781510</td>\n",
       "      <td>26.055842</td>\n",
       "      <td>25.511496</td>\n",
       "      <td>25.789823</td>\n",
       "      <td>1.681963e+08</td>\n",
       "    </tr>\n",
       "    <tr>\n",
       "      <th>75%</th>\n",
       "      <td>156.905000</td>\n",
       "      <td>157.809625</td>\n",
       "      <td>155.744975</td>\n",
       "      <td>156.515000</td>\n",
       "      <td>4.673778e+07</td>\n",
       "      <td>0.000000</td>\n",
       "      <td>1.000000</td>\n",
       "      <td>29.329099</td>\n",
       "      <td>29.541994</td>\n",
       "      <td>29.133958</td>\n",
       "      <td>29.362853</td>\n",
       "      <td>2.394642e+08</td>\n",
       "    </tr>\n",
       "    <tr>\n",
       "      <th>max</th>\n",
       "      <td>649.900000</td>\n",
       "      <td>651.260000</td>\n",
       "      <td>644.470000</td>\n",
       "      <td>647.350000</td>\n",
       "      <td>1.895606e+08</td>\n",
       "      <td>3.290000</td>\n",
       "      <td>7.000000</td>\n",
       "      <td>42.125703</td>\n",
       "      <td>42.628488</td>\n",
       "      <td>42.065561</td>\n",
       "      <td>42.440845</td>\n",
       "      <td>1.065523e+09</td>\n",
       "    </tr>\n",
       "  </tbody>\n",
       "</table>\n",
       "</div>"
      ],
      "text/plain": [
       "              Open         High          Low        Close        Volume  \\\n",
       "count  1090.000000  1090.000000  1090.000000  1090.000000  1.090000e+03   \n",
       "mean    194.564537   196.114735   193.016676   194.613130  3.605114e+07   \n",
       "std     160.562848   161.812898   159.407381   160.647536  2.194473e+07   \n",
       "min      90.000000    90.700000    89.470000    90.280000  5.704900e+06   \n",
       "25%     108.042500   108.942500   106.972500   108.007500  2.120714e+07   \n",
       "50%     121.585000   122.504950   120.640000   121.755000  3.248325e+07   \n",
       "75%     156.905000   157.809625   155.744975   156.515000  4.673778e+07   \n",
       "max     649.900000   651.260000   644.470000   647.350000  1.895606e+08   \n",
       "\n",
       "          Dividend        Split     Adj_Open     Adj_High      Adj_Low  \\\n",
       "count  1090.000000  1090.000000  1090.000000  1090.000000  1090.000000   \n",
       "mean      0.015642     1.005505    26.367551    26.578236    26.152043   \n",
       "std       0.175122     0.181735     6.614490     6.640870     6.578682   \n",
       "min       0.000000     1.000000    14.189776    14.561974    14.166335   \n",
       "25%       0.000000     1.000000    22.170235    22.433992    21.948836   \n",
       "50%       0.000000     1.000000    25.781510    26.055842    25.511496   \n",
       "75%       0.000000     1.000000    29.329099    29.541994    29.133958   \n",
       "max       3.290000     7.000000    42.125703    42.628488    42.065561   \n",
       "\n",
       "         Adj_Close    Adj_Volume  \n",
       "count  1090.000000  1.090000e+03  \n",
       "mean     26.373196  1.931334e+08  \n",
       "std       6.616455  1.112891e+08  \n",
       "min      14.258197  4.590369e+07  \n",
       "25%      22.201030  1.133450e+08  \n",
       "50%      25.789823  1.681963e+08  \n",
       "75%      29.362853  2.394642e+08  \n",
       "max      42.440845  1.065523e+09  "
      ]
     },
     "execution_count": 5,
     "metadata": {},
     "output_type": "execute_result"
    }
   ],
   "source": [
    "data.describe()"
   ]
  },
  {
   "cell_type": "code",
   "execution_count": 6,
   "metadata": {},
   "outputs": [
    {
     "data": {
      "text/html": [
       "<div>\n",
       "<style scoped>\n",
       "    .dataframe tbody tr th:only-of-type {\n",
       "        vertical-align: middle;\n",
       "    }\n",
       "\n",
       "    .dataframe tbody tr th {\n",
       "        vertical-align: top;\n",
       "    }\n",
       "\n",
       "    .dataframe thead th {\n",
       "        text-align: right;\n",
       "    }\n",
       "</style>\n",
       "<table border=\"1\" class=\"dataframe\">\n",
       "  <thead>\n",
       "    <tr style=\"text-align: right;\">\n",
       "      <th></th>\n",
       "      <th>Date</th>\n",
       "      <th>Open</th>\n",
       "      <th>High</th>\n",
       "      <th>Low</th>\n",
       "      <th>Close</th>\n",
       "      <th>Volume</th>\n",
       "      <th>Dividend</th>\n",
       "      <th>Split</th>\n",
       "      <th>Adj_Open</th>\n",
       "      <th>Adj_High</th>\n",
       "      <th>Adj_Low</th>\n",
       "      <th>Adj_Close</th>\n",
       "      <th>Adj_Volume</th>\n",
       "    </tr>\n",
       "  </thead>\n",
       "  <tbody>\n",
       "    <tr>\n",
       "      <th>1085</th>\n",
       "      <td>09-09-2013</td>\n",
       "      <td>505.00</td>\n",
       "      <td>507.92</td>\n",
       "      <td>503.48</td>\n",
       "      <td>506.170</td>\n",
       "      <td>12167400</td>\n",
       "      <td>0.0</td>\n",
       "      <td>1</td>\n",
       "      <td>15.996600</td>\n",
       "      <td>16.089095</td>\n",
       "      <td>15.948451</td>\n",
       "      <td>16.033661</td>\n",
       "      <td>340687200</td>\n",
       "    </tr>\n",
       "    <tr>\n",
       "      <th>1086</th>\n",
       "      <td>06-09-2013</td>\n",
       "      <td>498.44</td>\n",
       "      <td>499.38</td>\n",
       "      <td>489.95</td>\n",
       "      <td>498.220</td>\n",
       "      <td>12840200</td>\n",
       "      <td>0.0</td>\n",
       "      <td>1</td>\n",
       "      <td>15.788802</td>\n",
       "      <td>15.818578</td>\n",
       "      <td>15.519869</td>\n",
       "      <td>15.781833</td>\n",
       "      <td>359525600</td>\n",
       "    </tr>\n",
       "    <tr>\n",
       "      <th>1087</th>\n",
       "      <td>05-09-2013</td>\n",
       "      <td>500.25</td>\n",
       "      <td>500.68</td>\n",
       "      <td>493.64</td>\n",
       "      <td>495.270</td>\n",
       "      <td>8441700</td>\n",
       "      <td>0.0</td>\n",
       "      <td>1</td>\n",
       "      <td>15.846136</td>\n",
       "      <td>15.859757</td>\n",
       "      <td>15.636755</td>\n",
       "      <td>15.688388</td>\n",
       "      <td>236367600</td>\n",
       "    </tr>\n",
       "    <tr>\n",
       "      <th>1088</th>\n",
       "      <td>04-09-2013</td>\n",
       "      <td>499.56</td>\n",
       "      <td>502.24</td>\n",
       "      <td>496.28</td>\n",
       "      <td>498.691</td>\n",
       "      <td>12322600</td>\n",
       "      <td>0.0</td>\n",
       "      <td>1</td>\n",
       "      <td>15.824280</td>\n",
       "      <td>15.909173</td>\n",
       "      <td>15.720381</td>\n",
       "      <td>15.796753</td>\n",
       "      <td>345032800</td>\n",
       "    </tr>\n",
       "    <tr>\n",
       "      <th>1089</th>\n",
       "      <td>03-09-2013</td>\n",
       "      <td>493.10</td>\n",
       "      <td>500.60</td>\n",
       "      <td>487.35</td>\n",
       "      <td>488.580</td>\n",
       "      <td>11854600</td>\n",
       "      <td>0.0</td>\n",
       "      <td>1</td>\n",
       "      <td>15.619650</td>\n",
       "      <td>15.857223</td>\n",
       "      <td>15.437510</td>\n",
       "      <td>15.476472</td>\n",
       "      <td>331928800</td>\n",
       "    </tr>\n",
       "  </tbody>\n",
       "</table>\n",
       "</div>"
      ],
      "text/plain": [
       "            Date    Open    High     Low    Close    Volume  Dividend  Split  \\\n",
       "1085  09-09-2013  505.00  507.92  503.48  506.170  12167400       0.0      1   \n",
       "1086  06-09-2013  498.44  499.38  489.95  498.220  12840200       0.0      1   \n",
       "1087  05-09-2013  500.25  500.68  493.64  495.270   8441700       0.0      1   \n",
       "1088  04-09-2013  499.56  502.24  496.28  498.691  12322600       0.0      1   \n",
       "1089  03-09-2013  493.10  500.60  487.35  488.580  11854600       0.0      1   \n",
       "\n",
       "       Adj_Open   Adj_High    Adj_Low  Adj_Close  Adj_Volume  \n",
       "1085  15.996600  16.089095  15.948451  16.033661   340687200  \n",
       "1086  15.788802  15.818578  15.519869  15.781833   359525600  \n",
       "1087  15.846136  15.859757  15.636755  15.688388   236367600  \n",
       "1088  15.824280  15.909173  15.720381  15.796753   345032800  \n",
       "1089  15.619650  15.857223  15.437510  15.476472   331928800  "
      ]
     },
     "execution_count": 6,
     "metadata": {},
     "output_type": "execute_result"
    }
   ],
   "source": [
    "data.tail()"
   ]
  },
  {
   "cell_type": "markdown",
   "metadata": {},
   "source": [
    "### Micro Task 1: How many features are there in the given data set?\n",
    "#### There are 13 features in the given dataset."
   ]
  },
  {
   "cell_type": "code",
   "execution_count": 7,
   "metadata": {},
   "outputs": [],
   "source": [
    "import quandl"
   ]
  },
  {
   "cell_type": "markdown",
   "metadata": {},
   "source": [
    "### Creating new features High Low Percentage(H/L_PCT) and Percentage Change(PCT_Change)"
   ]
  },
  {
   "cell_type": "code",
   "execution_count": 8,
   "metadata": {},
   "outputs": [],
   "source": [
    "data['H/L_PCT'] = (data['Adj_High'] - data['Adj_Low'])/data['Adj_Close']*100.0\n",
    "data['PCT_Change'] = (data['Adj_Close'] - data['Adj_Open'])/data['Adj_Open']*100.0"
   ]
  },
  {
   "cell_type": "code",
   "execution_count": 9,
   "metadata": {},
   "outputs": [
    {
     "data": {
      "text/html": [
       "<div>\n",
       "<style scoped>\n",
       "    .dataframe tbody tr th:only-of-type {\n",
       "        vertical-align: middle;\n",
       "    }\n",
       "\n",
       "    .dataframe tbody tr th {\n",
       "        vertical-align: top;\n",
       "    }\n",
       "\n",
       "    .dataframe thead th {\n",
       "        text-align: right;\n",
       "    }\n",
       "</style>\n",
       "<table border=\"1\" class=\"dataframe\">\n",
       "  <thead>\n",
       "    <tr style=\"text-align: right;\">\n",
       "      <th></th>\n",
       "      <th>Date</th>\n",
       "      <th>Open</th>\n",
       "      <th>High</th>\n",
       "      <th>Low</th>\n",
       "      <th>Close</th>\n",
       "      <th>Volume</th>\n",
       "      <th>Dividend</th>\n",
       "      <th>Split</th>\n",
       "      <th>Adj_Open</th>\n",
       "      <th>Adj_High</th>\n",
       "      <th>Adj_Low</th>\n",
       "      <th>Adj_Close</th>\n",
       "      <th>Adj_Volume</th>\n",
       "      <th>H/L_PCT</th>\n",
       "      <th>PCT_Change</th>\n",
       "    </tr>\n",
       "  </thead>\n",
       "  <tbody>\n",
       "    <tr>\n",
       "      <th>0</th>\n",
       "      <td>28-12-2017</td>\n",
       "      <td>171.00</td>\n",
       "      <td>171.850</td>\n",
       "      <td>170.480</td>\n",
       "      <td>171.08</td>\n",
       "      <td>16480187</td>\n",
       "      <td>0.0</td>\n",
       "      <td>1</td>\n",
       "      <td>41.136972</td>\n",
       "      <td>41.341454</td>\n",
       "      <td>41.011877</td>\n",
       "      <td>41.156217</td>\n",
       "      <td>65920748</td>\n",
       "      <td>0.800795</td>\n",
       "      <td>0.046784</td>\n",
       "    </tr>\n",
       "    <tr>\n",
       "      <th>1</th>\n",
       "      <td>27-12-2017</td>\n",
       "      <td>170.10</td>\n",
       "      <td>170.780</td>\n",
       "      <td>169.710</td>\n",
       "      <td>170.60</td>\n",
       "      <td>21498213</td>\n",
       "      <td>0.0</td>\n",
       "      <td>1</td>\n",
       "      <td>40.920461</td>\n",
       "      <td>41.084047</td>\n",
       "      <td>40.826640</td>\n",
       "      <td>41.040745</td>\n",
       "      <td>85992852</td>\n",
       "      <td>0.627198</td>\n",
       "      <td>0.293945</td>\n",
       "    </tr>\n",
       "    <tr>\n",
       "      <th>2</th>\n",
       "      <td>26-12-2017</td>\n",
       "      <td>170.80</td>\n",
       "      <td>171.470</td>\n",
       "      <td>169.679</td>\n",
       "      <td>170.57</td>\n",
       "      <td>33185536</td>\n",
       "      <td>0.0</td>\n",
       "      <td>1</td>\n",
       "      <td>41.088858</td>\n",
       "      <td>41.250038</td>\n",
       "      <td>40.819183</td>\n",
       "      <td>41.033528</td>\n",
       "      <td>132742144</td>\n",
       "      <td>1.050009</td>\n",
       "      <td>-0.134660</td>\n",
       "    </tr>\n",
       "    <tr>\n",
       "      <th>3</th>\n",
       "      <td>22-12-2017</td>\n",
       "      <td>174.68</td>\n",
       "      <td>175.424</td>\n",
       "      <td>174.500</td>\n",
       "      <td>175.01</td>\n",
       "      <td>16349444</td>\n",
       "      <td>0.0</td>\n",
       "      <td>1</td>\n",
       "      <td>42.022259</td>\n",
       "      <td>42.201241</td>\n",
       "      <td>41.978957</td>\n",
       "      <td>42.101646</td>\n",
       "      <td>65397776</td>\n",
       "      <td>0.527970</td>\n",
       "      <td>0.188917</td>\n",
       "    </tr>\n",
       "    <tr>\n",
       "      <th>4</th>\n",
       "      <td>21-12-2017</td>\n",
       "      <td>174.17</td>\n",
       "      <td>176.020</td>\n",
       "      <td>174.100</td>\n",
       "      <td>175.01</td>\n",
       "      <td>20949896</td>\n",
       "      <td>0.0</td>\n",
       "      <td>1</td>\n",
       "      <td>41.899570</td>\n",
       "      <td>42.344619</td>\n",
       "      <td>41.882730</td>\n",
       "      <td>42.101646</td>\n",
       "      <td>83799584</td>\n",
       "      <td>1.097080</td>\n",
       "      <td>0.482287</td>\n",
       "    </tr>\n",
       "  </tbody>\n",
       "</table>\n",
       "</div>"
      ],
      "text/plain": [
       "         Date    Open     High      Low   Close    Volume  Dividend  Split  \\\n",
       "0  28-12-2017  171.00  171.850  170.480  171.08  16480187       0.0      1   \n",
       "1  27-12-2017  170.10  170.780  169.710  170.60  21498213       0.0      1   \n",
       "2  26-12-2017  170.80  171.470  169.679  170.57  33185536       0.0      1   \n",
       "3  22-12-2017  174.68  175.424  174.500  175.01  16349444       0.0      1   \n",
       "4  21-12-2017  174.17  176.020  174.100  175.01  20949896       0.0      1   \n",
       "\n",
       "    Adj_Open   Adj_High    Adj_Low  Adj_Close  Adj_Volume   H/L_PCT  \\\n",
       "0  41.136972  41.341454  41.011877  41.156217    65920748  0.800795   \n",
       "1  40.920461  41.084047  40.826640  41.040745    85992852  0.627198   \n",
       "2  41.088858  41.250038  40.819183  41.033528   132742144  1.050009   \n",
       "3  42.022259  42.201241  41.978957  42.101646    65397776  0.527970   \n",
       "4  41.899570  42.344619  41.882730  42.101646    83799584  1.097080   \n",
       "\n",
       "   PCT_Change  \n",
       "0    0.046784  \n",
       "1    0.293945  \n",
       "2   -0.134660  \n",
       "3    0.188917  \n",
       "4    0.482287  "
      ]
     },
     "execution_count": 9,
     "metadata": {},
     "output_type": "execute_result"
    }
   ],
   "source": [
    "data.head()"
   ]
  },
  {
   "cell_type": "markdown",
   "metadata": {},
   "source": [
    "### Micro Task 2: Which symbol is used from shift method in the current scenario?\n",
    "\n",
    "#### Symbol which is used from shift method in the current scenario is - ."
   ]
  },
  {
   "cell_type": "code",
   "execution_count": 10,
   "metadata": {},
   "outputs": [],
   "source": [
    "data1 = data.copy()"
   ]
  },
  {
   "cell_type": "code",
   "execution_count": 11,
   "metadata": {},
   "outputs": [
    {
     "name": "stdout",
     "output_type": "stream",
     "text": [
      "   Adj_Close  PCT_Change   H/L_PCT\n",
      "0  41.156217    0.046784  0.800795\n",
      "1  41.040745    0.293945  0.627198\n",
      "2  41.033528   -0.134660  1.050009\n",
      "3  42.101646    0.188917  0.527970\n",
      "4  42.101646    0.482287  1.097080\n"
     ]
    }
   ],
   "source": [
    "data1 = data[['Adj_Close','PCT_Change','H/L_PCT']] \n",
    "# Take a look at the new data \n",
    "print(data1.head())"
   ]
  },
  {
   "cell_type": "code",
   "execution_count": 12,
   "metadata": {},
   "outputs": [
    {
     "data": {
      "text/plain": [
       "Adj_Close     0\n",
       "PCT_Change    0\n",
       "H/L_PCT       0\n",
       "dtype: int64"
      ]
     },
     "execution_count": 12,
     "metadata": {},
     "output_type": "execute_result"
    }
   ],
   "source": [
    "# Identifying Null Values\n",
    "data1.isnull().sum()"
   ]
  },
  {
   "cell_type": "markdown",
   "metadata": {},
   "source": [
    "As there are no NAN values in the data columns of the dataframe. There is no need to fill NAN values with -99999."
   ]
  },
  {
   "cell_type": "code",
   "execution_count": 13,
   "metadata": {},
   "outputs": [],
   "source": [
    "# A variable for predicting number of days in the future\n",
    "forecast_next = 10"
   ]
  },
  {
   "cell_type": "code",
   "execution_count": 14,
   "metadata": {},
   "outputs": [
    {
     "name": "stderr",
     "output_type": "stream",
     "text": [
      "<ipython-input-14-51daf262b3a3>:2: SettingWithCopyWarning: \n",
      "A value is trying to be set on a copy of a slice from a DataFrame.\n",
      "Try using .loc[row_indexer,col_indexer] = value instead\n",
      "\n",
      "See the caveats in the documentation: https://pandas.pydata.org/pandas-docs/stable/user_guide/indexing.html#returning-a-view-versus-a-copy\n",
      "  data1['Predict'] = data1[['Adj_Close']].shift(-forecast_next)\n"
     ]
    }
   ],
   "source": [
    "# Creating another columns i.e. Target Variable shifted 'n' units up.\n",
    "data1['Predict'] = data1[['Adj_Close']].shift(-forecast_next)"
   ]
  },
  {
   "cell_type": "code",
   "execution_count": 15,
   "metadata": {},
   "outputs": [
    {
     "data": {
      "text/html": [
       "<div>\n",
       "<style scoped>\n",
       "    .dataframe tbody tr th:only-of-type {\n",
       "        vertical-align: middle;\n",
       "    }\n",
       "\n",
       "    .dataframe tbody tr th {\n",
       "        vertical-align: top;\n",
       "    }\n",
       "\n",
       "    .dataframe thead th {\n",
       "        text-align: right;\n",
       "    }\n",
       "</style>\n",
       "<table border=\"1\" class=\"dataframe\">\n",
       "  <thead>\n",
       "    <tr style=\"text-align: right;\">\n",
       "      <th></th>\n",
       "      <th>Adj_Close</th>\n",
       "      <th>PCT_Change</th>\n",
       "      <th>H/L_PCT</th>\n",
       "      <th>Predict</th>\n",
       "    </tr>\n",
       "  </thead>\n",
       "  <tbody>\n",
       "    <tr>\n",
       "      <th>0</th>\n",
       "      <td>41.156217</td>\n",
       "      <td>0.046784</td>\n",
       "      <td>0.800795</td>\n",
       "      <td>41.442492</td>\n",
       "    </tr>\n",
       "    <tr>\n",
       "      <th>1</th>\n",
       "      <td>41.040745</td>\n",
       "      <td>0.293945</td>\n",
       "      <td>0.627198</td>\n",
       "      <td>41.305369</td>\n",
       "    </tr>\n",
       "    <tr>\n",
       "      <th>2</th>\n",
       "      <td>41.033528</td>\n",
       "      <td>-0.134660</td>\n",
       "      <td>1.050009</td>\n",
       "      <td>41.538719</td>\n",
       "    </tr>\n",
       "    <tr>\n",
       "      <th>3</th>\n",
       "      <td>42.101646</td>\n",
       "      <td>0.188917</td>\n",
       "      <td>0.527970</td>\n",
       "      <td>40.744848</td>\n",
       "    </tr>\n",
       "    <tr>\n",
       "      <th>4</th>\n",
       "      <td>42.101646</td>\n",
       "      <td>0.482287</td>\n",
       "      <td>1.097080</td>\n",
       "      <td>40.732819</td>\n",
       "    </tr>\n",
       "  </tbody>\n",
       "</table>\n",
       "</div>"
      ],
      "text/plain": [
       "   Adj_Close  PCT_Change   H/L_PCT    Predict\n",
       "0  41.156217    0.046784  0.800795  41.442492\n",
       "1  41.040745    0.293945  0.627198  41.305369\n",
       "2  41.033528   -0.134660  1.050009  41.538719\n",
       "3  42.101646    0.188917  0.527970  40.744848\n",
       "4  42.101646    0.482287  1.097080  40.732819"
      ]
     },
     "execution_count": 15,
     "metadata": {},
     "output_type": "execute_result"
    }
   ],
   "source": [
    "# Preview of the dataset\n",
    "data1.head()"
   ]
  },
  {
   "cell_type": "code",
   "execution_count": 16,
   "metadata": {},
   "outputs": [
    {
     "data": {
      "text/html": [
       "<div>\n",
       "<style scoped>\n",
       "    .dataframe tbody tr th:only-of-type {\n",
       "        vertical-align: middle;\n",
       "    }\n",
       "\n",
       "    .dataframe tbody tr th {\n",
       "        vertical-align: top;\n",
       "    }\n",
       "\n",
       "    .dataframe thead th {\n",
       "        text-align: right;\n",
       "    }\n",
       "</style>\n",
       "<table border=\"1\" class=\"dataframe\">\n",
       "  <thead>\n",
       "    <tr style=\"text-align: right;\">\n",
       "      <th></th>\n",
       "      <th>Adj_Close</th>\n",
       "      <th>PCT_Change</th>\n",
       "      <th>H/L_PCT</th>\n",
       "      <th>Predict</th>\n",
       "    </tr>\n",
       "  </thead>\n",
       "  <tbody>\n",
       "    <tr>\n",
       "      <th>1085</th>\n",
       "      <td>16.033661</td>\n",
       "      <td>0.231683</td>\n",
       "      <td>0.877176</td>\n",
       "      <td>NaN</td>\n",
       "    </tr>\n",
       "    <tr>\n",
       "      <th>1086</th>\n",
       "      <td>15.781833</td>\n",
       "      <td>-0.044138</td>\n",
       "      <td>1.892738</td>\n",
       "      <td>NaN</td>\n",
       "    </tr>\n",
       "    <tr>\n",
       "      <th>1087</th>\n",
       "      <td>15.688388</td>\n",
       "      <td>-0.995502</td>\n",
       "      <td>1.421447</td>\n",
       "      <td>NaN</td>\n",
       "    </tr>\n",
       "    <tr>\n",
       "      <th>1088</th>\n",
       "      <td>15.796753</td>\n",
       "      <td>-0.173953</td>\n",
       "      <td>1.195129</td>\n",
       "      <td>NaN</td>\n",
       "    </tr>\n",
       "    <tr>\n",
       "      <th>1089</th>\n",
       "      <td>15.476472</td>\n",
       "      <td>-0.916650</td>\n",
       "      <td>2.711941</td>\n",
       "      <td>NaN</td>\n",
       "    </tr>\n",
       "  </tbody>\n",
       "</table>\n",
       "</div>"
      ],
      "text/plain": [
       "      Adj_Close  PCT_Change   H/L_PCT  Predict\n",
       "1085  16.033661    0.231683  0.877176      NaN\n",
       "1086  15.781833   -0.044138  1.892738      NaN\n",
       "1087  15.688388   -0.995502  1.421447      NaN\n",
       "1088  15.796753   -0.173953  1.195129      NaN\n",
       "1089  15.476472   -0.916650  2.711941      NaN"
      ]
     },
     "execution_count": 16,
     "metadata": {},
     "output_type": "execute_result"
    }
   ],
   "source": [
    "data1.tail()"
   ]
  },
  {
   "cell_type": "markdown",
   "metadata": {},
   "source": [
    "### Micro Task 3: What is the name of the class in which linear regression classifier is present in sklearn\n",
    "\n",
    "#### The name of the class in which linear regression classifier is present in sklearn is LinearRegression."
   ]
  },
  {
   "cell_type": "code",
   "execution_count": 17,
   "metadata": {},
   "outputs": [],
   "source": [
    "# Creating indiependent dataset (X): converting the dataframe to a numpy array\n",
    "X = np.array(data1.drop(['Predict'],1))"
   ]
  },
  {
   "cell_type": "code",
   "execution_count": 18,
   "metadata": {},
   "outputs": [
    {
     "name": "stdout",
     "output_type": "stream",
     "text": [
      "[[41.15621723  0.04678363  0.80079495]\n",
      " [41.04074503  0.29394473  0.62719812]\n",
      " [41.03352802 -0.13466042  1.05000879]\n",
      " ...\n",
      " [14.96078011  0.3399193   1.3931823 ]\n",
      " [14.71940567  0.32384817  1.22449856]\n",
      " [14.42291424  1.64300377  2.68163045]]\n"
     ]
    }
   ],
   "source": [
    "# Removing the last 10 rows \n",
    "X = X[:-forecast_next]\n",
    "print(X)"
   ]
  },
  {
   "cell_type": "code",
   "execution_count": 19,
   "metadata": {},
   "outputs": [],
   "source": [
    "# Creating indiependent dataset (y): converting the dataframe to a numpy array\n",
    "y = np.array(data1['Predict'])"
   ]
  },
  {
   "cell_type": "code",
   "execution_count": 20,
   "metadata": {},
   "outputs": [
    {
     "name": "stdout",
     "output_type": "stream",
     "text": [
      "[41.44249206 41.30536882 41.5387189  ... 15.68838781 15.79675289\n",
      " 15.47647246]\n"
     ]
    }
   ],
   "source": [
    "# Removing the last 10 rows \n",
    "y = y[:-forecast_next]\n",
    "print(y)"
   ]
  },
  {
   "cell_type": "code",
   "execution_count": 21,
   "metadata": {},
   "outputs": [],
   "source": [
    "# Splitting the dataset into train and test i.e. 80:20\n",
    "from sklearn.model_selection import train_test_split\n",
    "x_train, x_test, y_train, y_test = train_test_split(X, y, test_size=0.2)"
   ]
  },
  {
   "cell_type": "code",
   "execution_count": 22,
   "metadata": {},
   "outputs": [],
   "source": [
    "# Model Building : linear Regression\n",
    "from sklearn.linear_model import LinearRegression\n",
    "lreg = LinearRegression()"
   ]
  },
  {
   "cell_type": "code",
   "execution_count": 23,
   "metadata": {},
   "outputs": [
    {
     "data": {
      "text/plain": [
       "LinearRegression()"
      ]
     },
     "execution_count": 23,
     "metadata": {},
     "output_type": "execute_result"
    }
   ],
   "source": [
    "# Model Training\n",
    "lreg.fit(x_train, y_train)"
   ]
  },
  {
   "cell_type": "code",
   "execution_count": 24,
   "metadata": {},
   "outputs": [
    {
     "name": "stdout",
     "output_type": "stream",
     "text": [
      "Training Score:  97.37 %\n",
      "lreg Confidence (Testing Score):  97.07\n"
     ]
    }
   ],
   "source": [
    "# Model Testing: score returns the coefficient of determination R^2 of the prediction\n",
    "print('Training Score: ', round(lreg.score(x_train,y_train)*100,2),'%')\n",
    "\n",
    "# The best possible score is 1.0\n",
    "print('lreg Confidence (Testing Score): ', round(lreg.score(x_test,y_test)*100,2))"
   ]
  },
  {
   "cell_type": "code",
   "execution_count": 25,
   "metadata": {},
   "outputs": [
    {
     "name": "stdout",
     "output_type": "stream",
     "text": [
      "[16.91849911 23.11157248 28.52489253 41.00704859 29.09897761 18.77779613\n",
      " 25.70656473 22.41897006 16.48819694 21.76512392 37.59387441 22.10533202\n",
      " 23.96640733 28.10499907 40.08956006 23.50899165 24.96135017 17.17279913\n",
      " 36.81895175 27.24300539 37.83484723 24.41388451 17.2518608  21.94555751\n",
      " 22.52380981 16.75153681 22.66906583 22.89022061 25.37385468 25.4737154\n",
      " 28.31092429 21.27038018 24.44584497 17.33728899 24.07511752 16.30483926\n",
      " 27.61428042 27.19753847 22.17875907 17.78407481 28.3881875  27.68114248\n",
      " 18.96964621 25.4214168  17.60457674 25.83899302 28.98785542 26.91261215\n",
      " 26.84343085 16.81951483 26.02177679 25.30125173 26.75346029 16.62013913\n",
      " 27.03451587 16.08809076 25.02946517 27.21404564 28.80382257 16.94630481\n",
      " 25.69310648 26.53241624 41.25327736 25.9326843  26.18925344 29.72198265\n",
      " 21.74721432 27.08340355 29.56389514 28.58217503 16.46613464 34.15171469\n",
      " 34.40397684 29.9003999  20.51513945 41.50531853 30.52773067 23.10255785\n",
      " 37.53759856 25.05252175 26.6856373  27.11630674 28.84546549 22.9780039\n",
      " 27.40129649 33.70891318 18.14945928 22.27312038 36.38875213 20.49628622\n",
      " 15.95919471 29.03148262 28.21315792 29.19946306 17.44375894 32.72047335\n",
      " 36.01061825 36.37786416 21.86916194 20.77030704 22.38169451 25.3252251\n",
      " 32.48116567 26.42278412 32.98284151 28.0879005  30.32115636 19.04327976\n",
      " 21.78019046 22.26156187 22.22487235 25.34674348 26.43269727 34.65207579\n",
      " 39.92264132 28.3010844  21.3527177  26.92090229 36.01250884 24.56107013\n",
      " 24.36457857 33.8718148  34.60410355 22.66594314 15.20386051 25.31856152\n",
      " 25.81854909 22.4508128  26.49106334 25.73800892 21.17158406 28.83233948\n",
      " 34.69698051 22.6074295  28.75815299 24.30193554 22.2727239  28.14002881\n",
      " 25.89198391 28.44305397 27.08588144 20.97918391 26.51231711 16.88550997\n",
      " 27.84179725 34.85122481 26.46271478 25.98629057 34.37540363 22.73982214\n",
      " 27.02339698 16.9870609  25.72208686 26.35725233 22.68074208 35.05532394\n",
      " 27.012595   16.68151663 23.08874396 27.28022664 37.52553689 24.6488297\n",
      " 23.90963231 40.32770356 37.36013717 26.87951945 22.85491108 20.26396925\n",
      " 17.67868943 15.56958999 23.90680838 24.78473562 19.23399683 27.00439123\n",
      " 36.13032569 23.32401405 15.08221255 22.93675749 26.15848241 21.5320312\n",
      " 33.86580662 25.3046087  21.94942314 17.00374574 24.17961897 24.71512458\n",
      " 16.66089449 27.82522912 25.16843581 22.88650462 28.25862721 25.80686816\n",
      " 26.89015393 25.84054248 18.55561384 26.79322334 38.64233258 25.52837597\n",
      " 25.25199102 25.94368809 26.59223441 16.51328645 40.67888229 41.0374838\n",
      " 29.6036619  40.11157552 24.16311632 18.84167322 15.68198463 16.50932086\n",
      " 26.11508136 21.65205154 26.95793734 22.01200956 24.85485    31.72146871]\n"
     ]
    }
   ],
   "source": [
    "# Model Predictions\n",
    "\n",
    "y_pred = lreg.predict(x_test)\n",
    "print(y_pred)"
   ]
  },
  {
   "cell_type": "code",
   "execution_count": 26,
   "metadata": {},
   "outputs": [
    {
     "name": "stdout",
     "output_type": "stream",
     "text": [
      "Accuracy Score of Model:  97.07 %\n"
     ]
    }
   ],
   "source": [
    "# Model Performance\n",
    "from sklearn import metrics\n",
    "acc=metrics.r2_score(y_test,y_pred)\n",
    "print(\"Accuracy Score of Model: \",round(acc*100,2),'%')"
   ]
  },
  {
   "cell_type": "code",
   "execution_count": 27,
   "metadata": {},
   "outputs": [
    {
     "data": {
      "text/html": [
       "<div>\n",
       "<style scoped>\n",
       "    .dataframe tbody tr th:only-of-type {\n",
       "        vertical-align: middle;\n",
       "    }\n",
       "\n",
       "    .dataframe tbody tr th {\n",
       "        vertical-align: top;\n",
       "    }\n",
       "\n",
       "    .dataframe thead th {\n",
       "        text-align: right;\n",
       "    }\n",
       "</style>\n",
       "<table border=\"1\" class=\"dataframe\">\n",
       "  <thead>\n",
       "    <tr style=\"text-align: right;\">\n",
       "      <th></th>\n",
       "      <th>Actual Price</th>\n",
       "      <th>Predicted Price</th>\n",
       "    </tr>\n",
       "  </thead>\n",
       "  <tbody>\n",
       "    <tr>\n",
       "      <th>0</th>\n",
       "      <td>17.001405</td>\n",
       "      <td>16.918499</td>\n",
       "    </tr>\n",
       "    <tr>\n",
       "      <th>1</th>\n",
       "      <td>24.397857</td>\n",
       "      <td>23.111572</td>\n",
       "    </tr>\n",
       "    <tr>\n",
       "      <th>2</th>\n",
       "      <td>28.889578</td>\n",
       "      <td>28.524893</td>\n",
       "    </tr>\n",
       "    <tr>\n",
       "      <th>3</th>\n",
       "      <td>37.657267</td>\n",
       "      <td>41.007049</td>\n",
       "    </tr>\n",
       "    <tr>\n",
       "      <th>4</th>\n",
       "      <td>29.479394</td>\n",
       "      <td>29.098978</td>\n",
       "    </tr>\n",
       "  </tbody>\n",
       "</table>\n",
       "</div>"
      ],
      "text/plain": [
       "   Actual Price  Predicted Price\n",
       "0     17.001405        16.918499\n",
       "1     24.397857        23.111572\n",
       "2     28.889578        28.524893\n",
       "3     37.657267        41.007049\n",
       "4     29.479394        29.098978"
      ]
     },
     "execution_count": 27,
     "metadata": {},
     "output_type": "execute_result"
    }
   ],
   "source": [
    "# Actual v/s Predicted\n",
    "prediction_df = pd.DataFrame({ 'Actual Price': y_test, 'Predicted Price': y_pred})  \n",
    "prediction_df.head()"
   ]
  },
  {
   "cell_type": "code",
   "execution_count": 28,
   "metadata": {},
   "outputs": [
    {
     "name": "stdout",
     "output_type": "stream",
     "text": [
      "Mean Squared Error: 1.14\n",
      "Root Mean Squared Error: 1.07\n"
     ]
    }
   ],
   "source": [
    "# Model Evaluation\n",
    "from sklearn import metrics\n",
    "print('Mean Squared Error:',round(metrics.mean_squared_error(y_test,y_pred),2))\n",
    "print('Root Mean Squared Error:',round(np.sqrt(metrics.mean_squared_error(y_test,y_pred)),2))"
   ]
  },
  {
   "cell_type": "markdown",
   "metadata": {},
   "source": [
    "### Micro Task 4: What is the MSE of your model?\n",
    "\n",
    "#### The MSE of the model is 1.14 ."
   ]
  },
  {
   "cell_type": "code",
   "execution_count": 29,
   "metadata": {},
   "outputs": [
    {
     "name": "stdout",
     "output_type": "stream",
     "text": [
      "[[14.25819678 -2.36008677  3.19690307]\n",
      " [14.72637449 -0.94605146  1.53349109]\n",
      " [14.97313392  0.89434371  1.98650277]\n",
      " [14.81538527  0.1498683   1.89861239]\n",
      " [15.66843166 -2.28368231  3.62890187]\n",
      " [16.03366095  0.23168318  0.87717565]\n",
      " [15.78183329 -0.04413774  1.89273815]\n",
      " [15.68838781 -0.99550228  1.42144689]\n",
      " [15.79675289 -0.17395313  1.19512884]\n",
      " [15.47647246 -0.9166498   2.71194073]]\n"
     ]
    }
   ],
   "source": [
    "# Forecasting\n",
    "# Set x_forecast equal to the last 10 rows of the original data set from Adj. Close column\n",
    "x_forecast = np.array(data1.drop(['Predict'],1))[-forecast_next:]\n",
    "print(x_forecast)"
   ]
  },
  {
   "cell_type": "code",
   "execution_count": 30,
   "metadata": {},
   "outputs": [
    {
     "name": "stdout",
     "output_type": "stream",
     "text": [
      "[15.25898141 14.89682706 14.89092815 14.86648668 16.75877895 15.72174299\n",
      " 15.85182794 15.81396729 15.67528875 15.99423244]\n"
     ]
    }
   ],
   "source": [
    "# Printing lR model predictions for the next '10' days\n",
    "lreg_prediction = lreg.predict(x_forecast)\n",
    "print(lreg_prediction)"
   ]
  },
  {
   "cell_type": "code",
   "execution_count": null,
   "metadata": {},
   "outputs": [],
   "source": []
  }
 ],
 "metadata": {
  "kernelspec": {
   "display_name": "Python 3",
   "language": "python",
   "name": "python3"
  },
  "language_info": {
   "codemirror_mode": {
    "name": "ipython",
    "version": 3
   },
   "file_extension": ".py",
   "mimetype": "text/x-python",
   "name": "python",
   "nbconvert_exporter": "python",
   "pygments_lexer": "ipython3",
   "version": "3.8.5"
  }
 },
 "nbformat": 4,
 "nbformat_minor": 4
}
